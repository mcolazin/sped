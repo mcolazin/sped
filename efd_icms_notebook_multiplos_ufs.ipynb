{
 "cells": [
  {
   "cell_type": "code",
   "execution_count": null,
   "metadata": {},
   "outputs": [],
   "source": [
    "%%html\n",
    "<h1 align=center>Caderno de Análise dos Dados do SPED - EFD ICMS </h1>"
   ]
  },
  {
   "cell_type": "code",
   "execution_count": null,
   "metadata": {},
   "outputs": [],
   "source": [
    "# Importar as bibliotecas para a realização da Análise ((não alterar o código))\n",
    "\n",
    "from sqlalchemy import create_engine\n",
    "import pymysql\n",
    "import datetime as dt\n",
    "import pandas as pd\n",
    "import numpy as np\n",
    "\n",
    "import seaborn as sns\n",
    "import matplotlib.pyplot as plt"
   ]
  },
  {
   "cell_type": "code",
   "execution_count": null,
   "metadata": {},
   "outputs": [],
   "source": [
    "# Conexão ao banco de dados do EFD-Cotribuições (não alterar o código)\n",
    "conn = pymysql.connect(host=\"localhost\",\n",
    "                      port=3337,\n",
    "                      user=\"spedfiscal\",\n",
    "                      passwd=\"spedfiscal\",\n",
    "                      database = \"master\",\n",
    "                      charset='utf8')"
   ]
  },
  {
   "cell_type": "code",
   "execution_count": null,
   "metadata": {},
   "outputs": [],
   "source": [
    "%%html\n",
    "<h2 align=\"center\"> Insira o NOME da entidade sem espaços, simbolos ou letras </h2>"
   ]
  },
  {
   "cell_type": "code",
   "execution_count": null,
   "metadata": {},
   "outputs": [],
   "source": [
    "name = input(\"Digite o NOME da entidade sem símbolos: \")\n",
    "initial_data = input(\"Digite a data inicial no formato: yyyy-mm-day\")"
   ]
  },
  {
   "cell_type": "code",
   "execution_count": null,
   "metadata": {},
   "outputs": [],
   "source": [
    "%%html\n",
    "<h4 align=\"center\"> Copie na opção abaixo o nome do db para análise </h4>"
   ]
  },
  {
   "cell_type": "code",
   "execution_count": null,
   "metadata": {
    "scrolled": false
   },
   "outputs": [],
   "source": [
    "# Visualizando os nomes dos Bancos de Dados , entidades e CNPJ\n",
    "escrituracao_bds = pd.read_sql(f\"select cpf_cnpj, nome_contribuinte, datainicial, uf,nomeBD FROM escrituracaofiscal WHERE nome_contribuinte LIKE '%{name}%' AND datainicial = '{initial_data}'\" , con=conn)\n",
    "conn.close()\n",
    "data_bases = escrituracao_bds.nomeBD\n",
    "escrituracao_bds"
   ]
  },
  {
   "cell_type": "code",
   "execution_count": null,
   "metadata": {},
   "outputs": [],
   "source": [
    "# Função de conexão ao banco de dados para iteração de cada BD\n",
    "def connection(data_base):\n",
    "    conn = pymysql.connect(host=\"localhost\",\n",
    "                      port=3337,\n",
    "                      user=\"spedfiscal\",\n",
    "                      passwd=\"spedfiscal\",\n",
    "                      database = f\"{data_base}\",\n",
    "                      charset='utf8')\n",
    "    return conn"
   ]
  },
  {
   "cell_type": "code",
   "execution_count": null,
   "metadata": {},
   "outputs": [],
   "source": [
    "%%html\n",
    "<h2> Tabela de entrada e saída de mercadorias para todos as UFs - reg_c100 </h2>"
   ]
  },
  {
   "cell_type": "code",
   "execution_count": null,
   "metadata": {},
   "outputs": [],
   "source": [
    "# Create the first Data Frame reg_c100\n",
    "conn = pymysql.connect(host=\"localhost\",\n",
    "                      port=3337,\n",
    "                      user=\"spedfiscal\",\n",
    "                      passwd=\"spedfiscal\",\n",
    "                      database = data_bases[0],\n",
    "                      charset='utf8')\n",
    "reg_c100_all = pd.read_sql(\"SELECT COD_PART, NUM_DOC, CHV_NFE, DT_DOC, VL_DOC FROM reg_c100 WHERE IND_OPER = 1\", conn)\n",
    "conn.close()    "
   ]
  },
  {
   "cell_type": "code",
   "execution_count": null,
   "metadata": {
    "scrolled": true
   },
   "outputs": [],
   "source": [
    "# append anothers to DF\n",
    "for i in range(1,data_bases.size):\n",
    "    conn = connection(data_bases[i])\n",
    "    reg_c100_all = reg_c100_all.append(pd.read_sql(\"SELECT COD_PART, NUM_DOC, CHV_NFE, DT_DOC, VL_DOC FROM reg_c100 WHERE IND_OPER = 1\", conn))\n",
    "    conn.close()"
   ]
  },
  {
   "cell_type": "code",
   "execution_count": null,
   "metadata": {},
   "outputs": [],
   "source": [
    "reg_c100_all"
   ]
  },
  {
   "cell_type": "code",
   "execution_count": null,
   "metadata": {},
   "outputs": [],
   "source": []
  },
  {
   "cell_type": "code",
   "execution_count": null,
   "metadata": {},
   "outputs": [],
   "source": [
    "%%html\n",
    "<h2> Análise da Prestação de Serviços de telecomunicação D696 - saída </h2>"
   ]
  },
  {
   "cell_type": "code",
   "execution_count": null,
   "metadata": {},
   "outputs": [],
   "source": [
    "# Create the first Data Frame reg_d696\n",
    "conn = pymysql.connect(host=\"localhost\",\n",
    "                      port=3337,\n",
    "                      user=\"spedfiscal\",\n",
    "                      passwd=\"spedfiscal\",\n",
    "                      database = data_bases[0],\n",
    "                      charset='utf8')\n",
    "reg_d696_all = pd.read_sql(\"SELECT HASH, CFOP, VL_OPR FROM reg_d696\", conn)\n",
    "conn.close()"
   ]
  },
  {
   "cell_type": "code",
   "execution_count": null,
   "metadata": {},
   "outputs": [],
   "source": [
    "# append anothers to DF\n",
    "for i in range(1,data_bases.size):\n",
    "    conn = connection(data_bases[i])\n",
    "    reg_d696_all = reg_d696_all.append(pd.read_sql(\"SELECT HASH, CFOP, VL_OPR FROM reg_d696\", conn))\n",
    "    conn.close()"
   ]
  },
  {
   "cell_type": "code",
   "execution_count": null,
   "metadata": {},
   "outputs": [],
   "source": [
    "## Soma de todas as Notas Fiscais de saídas do Registro d696:\n",
    "print(f\" Valor total das NFs de saída telecom: R$ {round(reg_d696_all.VL_OPR.sum(),2)}\")"
   ]
  },
  {
   "cell_type": "code",
   "execution_count": null,
   "metadata": {},
   "outputs": [],
   "source": [
    "# Soma de valores por código CFOP\n",
    "reg_d696_agg_by_cod_item = reg_d696_all[[\"CFOP\",\"VL_OPR\"]].groupby([\"CFOP\"]).agg([\"sum\", \"mean\",\"min\", \"max\"])\n",
    "reg_d696_agg_by_cod_item"
   ]
  },
  {
   "cell_type": "code",
   "execution_count": null,
   "metadata": {},
   "outputs": [],
   "source": [
    "%%html\n",
    "<h2 align=\"center\"> Algumas Análises Gráficas </h2>"
   ]
  },
  {
   "cell_type": "code",
   "execution_count": null,
   "metadata": {},
   "outputs": [],
   "source": [
    "plt.figure(figsize=(12,8))\n",
    "plt.title(\"Registros D696 - Serviços de telecomunicações por tipo de atividade\")\n",
    "plt.ylabel(\"Classificação das atividades\")\n",
    "plt.xlabel(\"Valores dos itens\")\n",
    "sns.barplot(data=reg_d696_all, y=\"CFOP\", x=\"VL_OPR\")\n",
    "plt.show()"
   ]
  },
  {
   "cell_type": "code",
   "execution_count": null,
   "metadata": {},
   "outputs": [],
   "source": [
    "plt.figure(figsize=(10,6))\n",
    "plt.title(\"Box plot das atividades por serviços de telecomunicações D696 - todas as UFS\")\n",
    "sns.boxplot(data=reg_d696_all, x=\"CFOP\", y=\"VL_OPR\")\n",
    "plt.show()"
   ]
  },
  {
   "cell_type": "code",
   "execution_count": null,
   "metadata": {},
   "outputs": [],
   "source": []
  },
  {
   "cell_type": "code",
   "execution_count": null,
   "metadata": {},
   "outputs": [],
   "source": [
    "%%html\n",
    "<h2> Análise da Prestação de Serviços de telecomunicação D500 - saída </h2>"
   ]
  },
  {
   "cell_type": "code",
   "execution_count": null,
   "metadata": {},
   "outputs": [],
   "source": [
    "conn = connection(data_bases[0])"
   ]
  },
  {
   "cell_type": "code",
   "execution_count": null,
   "metadata": {
    "scrolled": true
   },
   "outputs": [],
   "source": [
    "reg_d510_telecom = pd.read_sql(\"SELECT HASH, COD_ITEM, VL_ITEM, CFOP, ALIQ_ICMS, COD_CTA FROM reg_d510\", con=conn)\n",
    "reg_d510_telecom"
   ]
  },
  {
   "cell_type": "code",
   "execution_count": null,
   "metadata": {},
   "outputs": [],
   "source": [
    "## Soma de todas as Notas Fiscais de saídas do Registro d500:\n",
    "print(f\" Valor total das NFs de saída telecom: R$ {round(reg_d510_telecom.VL_ITEM.sum(),2)}\")\n"
   ]
  },
  {
   "cell_type": "code",
   "execution_count": null,
   "metadata": {},
   "outputs": [],
   "source": [
    "# Soma de valores por código de itens\n",
    "reg_d510_agg_by_cod_item = reg_d510_telecom[[\"COD_ITEM\",\"VL_ITEM\"]].groupby([\"COD_ITEM\"]).agg([\"sum\", \"mean\",\"min\", \"max\"])\n",
    "reg_d510_agg_by_cod_item"
   ]
  },
  {
   "cell_type": "code",
   "execution_count": null,
   "metadata": {},
   "outputs": [],
   "source": [
    "%%html\n",
    "<h2 align=\"center\"> Soma de todos os itens de telecom </h2>"
   ]
  },
  {
   "cell_type": "code",
   "execution_count": null,
   "metadata": {},
   "outputs": [],
   "source": [
    "# soma de todos das receitas de todos os Serviços de telecom:\n",
    "total_d510 = reg_d510_agg_by_cod_item[\"VL_ITEM\"][\"sum\"].sum()\n",
    "print(f\"valor total dos Serviços : R$ {round(total_d510,2)}\")"
   ]
  },
  {
   "cell_type": "code",
   "execution_count": null,
   "metadata": {},
   "outputs": [],
   "source": [
    "%%html\n",
    "<h2 align=\"center\"> Algumas Análises Gráficas </h2>\n"
   ]
  },
  {
   "cell_type": "code",
   "execution_count": null,
   "metadata": {},
   "outputs": [],
   "source": [
    "plt.figure(figsize=(12,8))\n",
    "plt.title(\"Registros d510 - Serviços de telecomunicações por tipo de atividade\")\n",
    "plt.ylabel(\"Classificação das atividades\")\n",
    "plt.xlabel(\"Valores dos itens\")\n",
    "sns.barplot(data=reg_d510_telecom, y=\"COD_ITEM\", x=\"VL_ITEM\", hue=\"COD_CTA\")\n",
    "plt.show()"
   ]
  },
  {
   "cell_type": "code",
   "execution_count": null,
   "metadata": {},
   "outputs": [],
   "source": [
    "plt.figure(figsize=(12,8))\n",
    "plt.title(\"Box plot das atividades por serviços de telecomunicações D500\")\n",
    "sns.boxplot(data=reg_d510_telecom, y=\"COD_ITEM\", x=\"VL_ITEM\", hue=\"COD_CTA\")\n",
    "plt.show()"
   ]
  },
  {
   "cell_type": "code",
   "execution_count": null,
   "metadata": {},
   "outputs": [],
   "source": [
    "conn.close()"
   ]
  },
  {
   "cell_type": "code",
   "execution_count": null,
   "metadata": {},
   "outputs": [],
   "source": [
    "%%html\n",
    "<h3 align=\"center\"> Execute a célula abaixo Se e somente Se desejar gravar as tabelas no formato excell </h3>"
   ]
  },
  {
   "cell_type": "code",
   "execution_count": null,
   "metadata": {},
   "outputs": [],
   "source": [
    "# Importing files to Excell\n",
    "month = input(\"Escreva o nome do mês em minúsculo, sem separações ou símbolos: \")\n",
    "#reg_d510_telecom.to_excel(f\"servicos_telecom_d500_{month}.xlsx\")\n",
    "#reg_d510_agg_by_cod_item.to_excel(f\"soma_agregada_telecom_d500_{month}.xlsx\")\n",
    "\n",
    "reg_c100_all.to_excel(f\"transmissao_mercadorias_{month}.xlsx\")\n",
    "\n",
    "reg_d696_all.to_excel(f\"servicos_telecom_d696_{month}_todas_ufs.xlsx\")\n",
    "reg_d696_agg_by_cod_item(f\"soma_agredada_telecom_d696_{month}.xlsx\")\n"
   ]
  },
  {
   "cell_type": "code",
   "execution_count": null,
   "metadata": {},
   "outputs": [],
   "source": []
  }
 ],
 "metadata": {
  "kernelspec": {
   "display_name": "Python 3",
   "language": "python",
   "name": "python3"
  },
  "language_info": {
   "codemirror_mode": {
    "name": "ipython",
    "version": 3
   },
   "file_extension": ".py",
   "mimetype": "text/x-python",
   "name": "python",
   "nbconvert_exporter": "python",
   "pygments_lexer": "ipython3",
   "version": "3.7.9"
  }
 },
 "nbformat": 4,
 "nbformat_minor": 4
}
