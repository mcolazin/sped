{
 "cells": [
  {
   "cell_type": "code",
   "execution_count": 11,
   "metadata": {},
   "outputs": [
    {
     "data": {
      "text/html": [
       "<h1 align=\"center\"> Bem vindos ao Extrator de valores dos Recibos ICMS - versão Beta <br>\n",
       "<img src=\"qrcode.png\" width=\"200px\"> <br>\n",
       "<a href=\"https://jupyter.org/\" target=\"_blank\"> Powered by Jupyter Notebooks </a>\n"
      ],
      "text/plain": [
       "<IPython.core.display.HTML object>"
      ]
     },
     "metadata": {},
     "output_type": "display_data"
    }
   ],
   "source": [
    "%%html\n",
    "<h1 align=\"center\"> Bem vindos ao Extrator de valores dos Recibos ICMS - versão Beta <br>\n",
    "<img src=\"qrcode.png\" width=\"200px\"> <br>\n",
    "<a href=\"https://jupyter.org/\" target=\"_blank\"> Powered by Jupyter Notebooks </a>"
   ]
  },
  {
   "cell_type": "code",
   "execution_count": null,
   "metadata": {},
   "outputs": [],
   "source": [
    "import pandas as pd\n",
    "import tabula "
   ]
  },
  {
   "cell_type": "code",
   "execution_count": null,
   "metadata": {},
   "outputs": [],
   "source": [
    "%%html\n",
    "<h1> Extração dos valores do Recibo Icms (todas as UFs) ao mês </h1>"
   ]
  },
  {
   "cell_type": "code",
   "execution_count": null,
   "metadata": {
    "scrolled": false
   },
   "outputs": [],
   "source": [
    "# get file names\n",
    "from os import listdir\n",
    "from os.path import isfile, join\n",
    "recibos = []\n",
    "for i in range(1,10):\n",
    "    recibos.append([f for f in listdir(f\"{i}/\") if isfile(join(f\"{i}/\",f))])"
   ]
  },
  {
   "cell_type": "code",
   "execution_count": null,
   "metadata": {},
   "outputs": [],
   "source": [
    "# Criação das listas de recibos - individuais no mês\n",
    "icms_list = []\n",
    "for i in range(1,10):\n",
    "    month_list = []\n",
    "    for r in recibos[i-1]:\n",
    "        file = tabula.read_pdf(f\"{i}/{r}\", multiple_tables=True)\n",
    "        month_list.append(file[3].iloc[1][1])\n",
    "    icms_list.append(month_list)"
   ]
  },
  {
   "cell_type": "code",
   "execution_count": null,
   "metadata": {
    "scrolled": false
   },
   "outputs": [],
   "source": [
    "# Converter conjunto de listas para Data FRame\n",
    "icms_extract = pd.DataFrame(icms_list, index=range(1,10))"
   ]
  },
  {
   "cell_type": "code",
   "execution_count": null,
   "metadata": {},
   "outputs": [],
   "source": [
    "# Escrever os valores do Recibo ICMS em arquivo excell \n",
    "icms_extract.to_excel(\"icms_jan_set_all_ufs.xlsx\")"
   ]
  },
  {
   "cell_type": "code",
   "execution_count": null,
   "metadata": {},
   "outputs": [],
   "source": []
  }
 ],
 "metadata": {
  "kernelspec": {
   "display_name": "Python 3",
   "language": "python",
   "name": "python3"
  },
  "language_info": {
   "codemirror_mode": {
    "name": "ipython",
    "version": 3
   },
   "file_extension": ".py",
   "mimetype": "text/x-python",
   "name": "python",
   "nbconvert_exporter": "python",
   "pygments_lexer": "ipython3",
   "version": "3.7.9"
  }
 },
 "nbformat": 4,
 "nbformat_minor": 4
}
