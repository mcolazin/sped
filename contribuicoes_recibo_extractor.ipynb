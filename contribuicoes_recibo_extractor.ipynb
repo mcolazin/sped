{
 "cells": [
  {
   "cell_type": "code",
   "execution_count": 1,
   "metadata": {},
   "outputs": [
    {
     "data": {
      "text/html": [
       "<h1 align=\"center\"> Bem vindos ao Extrator de valores dos Recibos PIS / COFINS - versão Beta <br>\n",
       "<img src=\"qrcode.png\" width=\"200px\"> <br>\n",
       "<a href=\"https://jupyter.org/\" target=\"_blank\"> Powered by Jupyter Notebooks </a>\n"
      ],
      "text/plain": [
       "<IPython.core.display.HTML object>"
      ]
     },
     "metadata": {},
     "output_type": "display_data"
    }
   ],
   "source": [
    "%%html\n",
    "<h1 align=\"center\"> Bem vindos ao Extrator de valores dos Recibos PIS / COFINS - versão Beta <br>\n",
    "<img src=\"qrcode.png\" width=\"200px\"> <br>\n",
    "<a href=\"https://jupyter.org/\" target=\"_blank\"> Powered by Jupyter Notebooks </a>"
   ]
  },
  {
   "cell_type": "code",
   "execution_count": null,
   "metadata": {},
   "outputs": [],
   "source": [
    "import pandas as pd\n",
    "import tabula "
   ]
  },
  {
   "cell_type": "code",
   "execution_count": null,
   "metadata": {},
   "outputs": [],
   "source": [
    "%%html\n",
    "<h1> Extração dos valores do Recibo Pis e Cofins dos PDFs </h1>"
   ]
  },
  {
   "cell_type": "code",
   "execution_count": null,
   "metadata": {},
   "outputs": [],
   "source": [
    "# Extrair o nome dos arquivos, criando uma lista de recibos\n",
    "from os import listdir\n",
    "from os.path import isfile, join\n",
    "recibos = []\n",
    "recibos.append([f for f in listdir(\"recibos/\") if isfile(join(\"recibos/\",f))])"
   ]
  },
  {
   "cell_type": "code",
   "execution_count": null,
   "metadata": {},
   "outputs": [],
   "source": [
    "# Criação das listas de valores - atenção que a seleção de campos\n",
    "# poderá ser alterada conforme a estrutura dos documentos.\n",
    "pis_list_cumul = []\n",
    "cofins_list_cumul = []\n",
    "pis_list_not_cumul = []\n",
    "cofins_list_not_cumul = []\n",
    "for i in recibos[0]:\n",
    "    print(i)\n",
    "    file = tabula.read_pdf(f\"recibos/{i}\", multiple_tables=True)\n",
    "    pis_list_cumul.append(file[1].iloc[1][1])\n",
    "    cofins_list_cumul.append(file[1].iloc[1][2])\n",
    "    pis_list_not_cumul.append(file[0].iloc[2][1])\n",
    "    cofins_list_not_cumul.append(file[0].iloc[2][2])"
   ]
  },
  {
   "cell_type": "code",
   "execution_count": null,
   "metadata": {},
   "outputs": [],
   "source": [
    "# Escrever os valores do Recibo Pis e Cofins em arquivo excell \n",
    "pd.DataFrame({\"pis_cumul\" : pis_list_cumul, \n",
    "              \"cofins_cumul\" : cofins_list_cumul,\n",
    "              \"pis_nao_cumul\": pis_list_not_cumul,\n",
    "              \"cofins_nao_cumul\" : cofins_list_not_cumul}).to_excel(\"pis_cofins_extracted.xlsx\")"
   ]
  }
 ],
 "metadata": {
  "kernelspec": {
   "display_name": "Python 3",
   "language": "python",
   "name": "python3"
  },
  "language_info": {
   "codemirror_mode": {
    "name": "ipython",
    "version": 3
   },
   "file_extension": ".py",
   "mimetype": "text/x-python",
   "name": "python",
   "nbconvert_exporter": "python",
   "pygments_lexer": "ipython3",
   "version": "3.7.9"
  }
 },
 "nbformat": 4,
 "nbformat_minor": 4
}
