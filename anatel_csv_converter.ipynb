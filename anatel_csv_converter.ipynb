{
 "cells": [
  {
   "cell_type": "code",
   "execution_count": 1,
   "metadata": {},
   "outputs": [
    {
     "data": {
      "text/html": [
       "<h1 align=\"center\"> Bem vindos ao Conversor CSV para a Planilha de Fiscalização Tributária da Anatel - versão Beta <br>\n",
       "<img src=\"qrcode.png\" width=\"200px\"> <br> \n",
       "<a href=\"https://jupyter.org/\" target=\"_blank\"> Powered by Jupyter Notebooks </a>\n"
      ],
      "text/plain": [
       "<IPython.core.display.HTML object>"
      ]
     },
     "metadata": {},
     "output_type": "display_data"
    }
   ],
   "source": [
    "%%html\n",
    "<h1 align=\"center\"> Bem vindos ao Conversor CSV para a Planilha de Fiscalização Tributária da Anatel - versão Beta <br>\n",
    "<img src=\"qrcode.png\" width=\"200px\"> <br> \n",
    "<a href=\"https://jupyter.org/\" target=\"_blank\"> Powered by Jupyter Notebooks </a>"
   ]
  },
  {
   "cell_type": "code",
   "execution_count": null,
   "metadata": {},
   "outputs": [],
   "source": [
    "import pandas as pd\n",
    "import numpy as np"
   ]
  },
  {
   "cell_type": "code",
   "execution_count": null,
   "metadata": {},
   "outputs": [],
   "source": [
    "# Importando dados da planilha oficial (aquela original da Anatel)\n",
    "sheet = input(\"digite o nome do arquivo completo da planilha com a extensão: \")\n",
    "sheet_df = pd.read_excel(sheet, skiprows=5, na_values=[\" \", \"na\", \"nan\"], index_col=0).head(15)\n",
    "sheet_df = sheet_df.astype(\"float\").round(2)\n",
    "sheet_df = sheet_df.iloc[:,2:15].transpose()"
   ]
  },
  {
   "cell_type": "code",
   "execution_count": null,
   "metadata": {},
   "outputs": [],
   "source": [
    "# Escrevendo os dataframes fust e funttel no formato da saída\n",
    "months = [\"Janeiro\", \"Fevereiro\", \"Março\", \"Abril\", \"Maio\", \"Junho\", \"Julho\", \"Agosto\", \n",
    "        \"Setembro\", \"Outubro\", \"Novembro\", \"Dezembro\", \"Total Anual\"]\n",
    "cols = [\"ROB Telecom\", \"ICMS\", \"PIS\", \"COFINS\", \"Valor Apurado\"]\n",
    "\n",
    "csv_sheet_fust = pd.DataFrame({\"Mês\" : months, \n",
    "              cols[0] : sheet_df.iloc[:,1],\n",
    "              cols[1] : abs(sheet_df.iloc[:,6]),\n",
    "              cols[2] : abs(sheet_df.iloc[:,4]),\n",
    "              cols[3] : abs(sheet_df.iloc[:,5]),\n",
    "              cols[4] : sheet_df.iloc[:,10]\n",
    "             })\n",
    "\n",
    "csv_sheet_funttel = pd.DataFrame({\"Mês\" : months, \n",
    "              cols[0] : sheet_df.iloc[:,1],\n",
    "              cols[1] : abs(sheet_df.iloc[:,6]),\n",
    "              cols[2] : abs(sheet_df.iloc[:,4]),\n",
    "              cols[3] : abs(sheet_df.iloc[:,5]),\n",
    "              cols[4] : sheet_df.iloc[:,14]\n",
    "             })"
   ]
  },
  {
   "cell_type": "code",
   "execution_count": null,
   "metadata": {},
   "outputs": [],
   "source": [
    "# Gerar os arquivos CSVs referentes ao FUST e FUNTTEL\n",
    "file_fust = input(\"Digite o nome do arquivo csv referente ao Fust: \")\n",
    "csv_sheet_fust.to_csv(f\"{file_fust}.csv\", index=False, sep=\";\", decimal=\",\" , encoding=\"utf-8-sig\")\n",
    "file_funttel = input(\"Digite o nome do arquivo csv referente ao Funttel: \")\n",
    "csv_sheet_funttel.to_csv(f\"{file_funttel}.csv\", index=False, sep=\";\", decimal=\",\" , encoding=\"utf-8-sig\")"
   ]
  },
  {
   "cell_type": "code",
   "execution_count": null,
   "metadata": {},
   "outputs": [],
   "source": []
  },
  {
   "cell_type": "code",
   "execution_count": null,
   "metadata": {},
   "outputs": [],
   "source": []
  }
 ],
 "metadata": {
  "kernelspec": {
   "display_name": "Python 3",
   "language": "python",
   "name": "python3"
  },
  "language_info": {
   "codemirror_mode": {
    "name": "ipython",
    "version": 3
   },
   "file_extension": ".py",
   "mimetype": "text/x-python",
   "name": "python",
   "nbconvert_exporter": "python",
   "pygments_lexer": "ipython3",
   "version": "3.7.9"
  }
 },
 "nbformat": 4,
 "nbformat_minor": 4
}
