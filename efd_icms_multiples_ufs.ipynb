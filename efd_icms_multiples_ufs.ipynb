{
 "cells": [
  {
   "cell_type": "code",
   "execution_count": 1,
   "metadata": {},
   "outputs": [
    {
     "data": {
      "text/html": [
       "<h1 align=center> Bem vindos ao Caderno de Análises do EFD ICMS <br>\n",
       "<img src=\"qrcode.png\" width=\"200px\">\n",
       "<h2 align=\"center\"> <a href=\"http://jupyter.org\" target=\"_blank\"> Powered By Jupyter Notebooks </a>\n"
      ],
      "text/plain": [
       "<IPython.core.display.HTML object>"
      ]
     },
     "metadata": {},
     "output_type": "display_data"
    }
   ],
   "source": [
    "%%html\n",
    "<h1 align=center> Bem vindos ao Caderno de Análises do EFD ICMS <br>\n",
    "<img src=\"qrcode.png\" width=\"200px\">\n",
    "<h2 align=\"center\"> <a href=\"http://jupyter.org\" target=\"_blank\"> Powered By Jupyter Notebooks </a>"
   ]
  },
  {
   "cell_type": "code",
   "execution_count": null,
   "metadata": {},
   "outputs": [],
   "source": [
    "# Importar as bibliotecas para a realização da Análise ((não alterar o código))\n",
    "\n",
    "from sqlalchemy import create_engine\n",
    "import pymysql\n",
    "import datetime as dt\n",
    "import pandas as pd\n",
    "import numpy as np\n",
    "\n",
    "import seaborn as sns\n",
    "import matplotlib.pyplot as plt"
   ]
  },
  {
   "cell_type": "code",
   "execution_count": null,
   "metadata": {},
   "outputs": [],
   "source": [
    "# Leitura de dados da tabela cfop\n",
    "cfop_df = pd.read_excel(\"tabela_cfop_2019.xlsx\", skiprows=2)[[\"CFOP\", \"Descrição Resumida\"]]\n",
    "cfop_df.rename(columns={\"CFOP\":\"CFOP\", \"Descrição Resumida\":\"DESCRICAO\"}, inplace=True)"
   ]
  },
  {
   "cell_type": "code",
   "execution_count": null,
   "metadata": {},
   "outputs": [],
   "source": [
    "# Conexão ao banco de dados do EFD-Cotribuições (não alterar o código)\n",
    "conn = pymysql.connect(host=\"localhost\",\n",
    "                      port=3337,\n",
    "                      user=\"spedfiscal\",\n",
    "                      passwd=\"spedfiscal\",\n",
    "                      database = \"master\",\n",
    "                      charset='utf8')"
   ]
  },
  {
   "cell_type": "code",
   "execution_count": null,
   "metadata": {},
   "outputs": [],
   "source": [
    "%%html\n",
    "<h2 align=\"center\"> Insira o NOME da entidade sem espaços, simbolos ou letras </h2>"
   ]
  },
  {
   "cell_type": "code",
   "execution_count": null,
   "metadata": {},
   "outputs": [],
   "source": [
    "name = input(\"Digite o NOME da entidade sem símbolos: \")\n",
    "initial_data = input(\"Digite a data inicial no formato: yyyy-mm-day\")"
   ]
  },
  {
   "cell_type": "code",
   "execution_count": null,
   "metadata": {},
   "outputs": [],
   "source": [
    "%%html\n",
    "<h4 align=\"center\"> Copie na opção abaixo o nome do db para análise </h4>"
   ]
  },
  {
   "cell_type": "code",
   "execution_count": null,
   "metadata": {
    "scrolled": false
   },
   "outputs": [],
   "source": [
    "# Visualizando os nomes dos Bancos de Dados , entidades e CNPJ\n",
    "escrituracao_bds = pd.read_sql(f\"select cpf_cnpj, nome_contribuinte, datainicial, uf,nomeBD FROM escrituracaofiscal WHERE nome_contribuinte LIKE '%{name}%' AND datainicial = '{initial_data}'\" , con=conn)\n",
    "conn.close()\n",
    "data_bases = escrituracao_bds.nomeBD\n",
    "escrituracao_bds"
   ]
  },
  {
   "cell_type": "code",
   "execution_count": null,
   "metadata": {},
   "outputs": [],
   "source": [
    "# Função de conexão ao banco de dados para iteração de cada BD\n",
    "def connection(data_base):\n",
    "    conn = pymysql.connect(host=\"localhost\",\n",
    "                      port=3337,\n",
    "                      user=\"spedfiscal\",\n",
    "                      passwd=\"spedfiscal\",\n",
    "                      database = f\"{data_base}\",\n",
    "                      charset='utf8')\n",
    "    return conn"
   ]
  },
  {
   "cell_type": "code",
   "execution_count": null,
   "metadata": {},
   "outputs": [],
   "source": [
    "%%html\n",
    "<h2> Tabela de entrada e saída de mercadorias para todos as UFs - reg_c100 </h2>"
   ]
  },
  {
   "cell_type": "code",
   "execution_count": null,
   "metadata": {},
   "outputs": [],
   "source": [
    "# Create the first Data Frame reg_c100\n",
    "conn = pymysql.connect(host=\"localhost\",\n",
    "                      port=3337,\n",
    "                      user=\"spedfiscal\",\n",
    "                      passwd=\"spedfiscal\",\n",
    "                      database = data_bases[0],\n",
    "                      charset='utf8')\n",
    "reg_c100_all = pd.read_sql(\"SELECT COD_PART, NUM_DOC, CHV_NFE, DT_DOC, VL_DOC FROM reg_c100 WHERE IND_OPER = 1\", conn)\n",
    "conn.close()    "
   ]
  },
  {
   "cell_type": "code",
   "execution_count": null,
   "metadata": {
    "scrolled": true
   },
   "outputs": [],
   "source": [
    "# append anothers to DF\n",
    "for i in range(1,data_bases.size):\n",
    "    conn = connection(data_bases[i])\n",
    "    reg_c100_all = reg_c100_all.append(pd.read_sql(\"SELECT COD_PART, NUM_DOC, CHV_NFE, DT_DOC, VL_DOC FROM reg_c100 WHERE IND_OPER = 1\", conn))\n",
    "    conn.close()"
   ]
  },
  {
   "cell_type": "code",
   "execution_count": null,
   "metadata": {},
   "outputs": [],
   "source": [
    "# Registros de saída de mercadorias e Notas Fiscais\n",
    "reg_c100_all"
   ]
  },
  {
   "cell_type": "code",
   "execution_count": null,
   "metadata": {},
   "outputs": [],
   "source": [
    "%%html\n",
    "<h2> Registros de Mercadorias C190 por CFOP </h2>"
   ]
  },
  {
   "cell_type": "code",
   "execution_count": null,
   "metadata": {},
   "outputs": [],
   "source": [
    "# Create the first Data Frame reg_c190\n",
    "conn = pymysql.connect(host=\"localhost\",\n",
    "                      port=3337,\n",
    "                      user=\"spedfiscal\",\n",
    "                      passwd=\"spedfiscal\",\n",
    "                      database = data_bases[0],\n",
    "                      charset='utf8')\n",
    "reg_c190_all = pd.read_sql(\"SELECT ID_PAI, CFOP, VL_OPR FROM reg_c190 WHERE CFOP >= 5000\", con=conn)\n",
    "conn.close()"
   ]
  },
  {
   "cell_type": "code",
   "execution_count": null,
   "metadata": {},
   "outputs": [],
   "source": [
    "# append anothers to DF\n",
    "for i in range(1,data_bases.size):\n",
    "    conn = connection(data_bases[i])\n",
    "    reg_c190 = reg_c190_all.append(pd.read_sql(\"SELECT ID_PAI, CFOP, VL_OPR FROM reg_c190 WHERE CFOP >= 5000\", con=conn))\n",
    "    conn.close()"
   ]
  },
  {
   "cell_type": "code",
   "execution_count": null,
   "metadata": {},
   "outputs": [],
   "source": [
    "reg_c190 = reg_c190.astype({\"CFOP\" : \"int64\"})\n",
    "reg_c190_cfop_merge = pd.merge(reg_c190, cfop_df, on=\"CFOP\").sort_values(by=\"ID_PAI\")\n",
    "reg_c190_cfop_merge"
   ]
  },
  {
   "cell_type": "code",
   "execution_count": null,
   "metadata": {},
   "outputs": [],
   "source": [
    "# AGREGAÇÃO DE VALORES (SOMA) POR CFOP\n",
    "reg_c190_group_sum = reg_c190_cfop_merge[[\"DESCRICAO\",\"CFOP\" , \"VL_OPR\"]].groupby([\"CFOP\",\"DESCRICAO\"]).agg(\"sum\")\n",
    "reg_c190_group_sum"
   ]
  },
  {
   "cell_type": "code",
   "execution_count": null,
   "metadata": {},
   "outputs": [],
   "source": [
    "plt.figure(figsize=(12,6))\n",
    "plt.title(\"Registros d190 - Saída de Produtos e Mercadorias por código de CFOP\")\n",
    "plt.ylabel(\"Classificação das atividades\")\n",
    "plt.xlabel(\"Valores dos itens\")\n",
    "sns.histplot(data=reg_c190_group_sum, x=\"VL_OPR\", hue=\"DESCRICAO\")\n",
    "plt.show()"
   ]
  },
  {
   "cell_type": "code",
   "execution_count": null,
   "metadata": {},
   "outputs": [],
   "source": []
  },
  {
   "cell_type": "code",
   "execution_count": null,
   "metadata": {},
   "outputs": [],
   "source": [
    "%%html\n",
    "<h2> Análise da Prestação de Serviços de telecomunicação D696 - saída </h2>"
   ]
  },
  {
   "cell_type": "code",
   "execution_count": null,
   "metadata": {},
   "outputs": [],
   "source": [
    "# Create the first Data Frame reg_d696\n",
    "conn = pymysql.connect(host=\"localhost\",\n",
    "                      port=3337,\n",
    "                      user=\"spedfiscal\",\n",
    "                      passwd=\"spedfiscal\",\n",
    "                      database = data_bases[0],\n",
    "                      charset='utf8')\n",
    "reg_d696 = pd.read_sql(\"SELECT HASH, CFOP, VL_OPR FROM reg_d696\", conn)\n",
    "conn.close()"
   ]
  },
  {
   "cell_type": "code",
   "execution_count": null,
   "metadata": {},
   "outputs": [],
   "source": [
    "# append anothers to DF\n",
    "for i in range(1,data_bases.size):\n",
    "    conn = connection(data_bases[i])\n",
    "    reg_d696 = reg_d696.append(pd.read_sql(\"SELECT HASH, CFOP, VL_OPR FROM reg_d696\", conn))\n",
    "    conn.close()"
   ]
  },
  {
   "cell_type": "code",
   "execution_count": null,
   "metadata": {
    "scrolled": true
   },
   "outputs": [],
   "source": [
    "reg_d696"
   ]
  },
  {
   "cell_type": "code",
   "execution_count": null,
   "metadata": {},
   "outputs": [],
   "source": [
    "# VALORES CLASSIFICADOS POR CFOP\n",
    "reg_d696 = reg_d696.astype({\"CFOP\" : \"int64\"})\n",
    "reg_d696_telecom_cfop_merge = pd.merge(reg_d696, cfop_df, on=\"CFOP\")\n",
    "reg_d696_telecom_cfop_merge"
   ]
  },
  {
   "cell_type": "code",
   "execution_count": null,
   "metadata": {},
   "outputs": [],
   "source": [
    "## Soma de todas as Notas Fiscais de saídas do Registro d5696:\n",
    "print(f\" Valor total das NFs de saída telecom: R$ {round(reg_d696_telecom_cfop_merge.VL_OPR.sum(),2)}\")"
   ]
  },
  {
   "cell_type": "code",
   "execution_count": null,
   "metadata": {},
   "outputs": [],
   "source": [
    "# Soma de valores por código de itens\n",
    "reg_d696_agg_by_cod_item = reg_d696_telecom_cfop_merge[[\"DESCRICAO\",\"VL_OPR\"]].groupby([\"DESCRICAO\"]).agg([\"sum\", \"mean\",\"min\", \"max\"])\n",
    "reg_d696_agg_by_cod_item"
   ]
  },
  {
   "cell_type": "code",
   "execution_count": null,
   "metadata": {},
   "outputs": [],
   "source": [
    "%%html\n",
    "<h2 align=\"center\"> Algumas Análises Gráficas </h2>"
   ]
  },
  {
   "cell_type": "code",
   "execution_count": null,
   "metadata": {},
   "outputs": [],
   "source": [
    "#plt.figure(figsize=(12,8))\n",
    "plt.title(\"Registros d696 - Serviços de telecomunicações por tipo de atividade\")\n",
    "plt.ylabel(\"Classificação das atividades\")\n",
    "plt.xlabel(\"Valores dos itens\")\n",
    "sns.barplot(data=reg_d696_telecom_cfop_merge, y=\"DESCRICAO\", x=\"VL_OPR\")\n",
    "plt.show()"
   ]
  },
  {
   "cell_type": "code",
   "execution_count": null,
   "metadata": {},
   "outputs": [],
   "source": [
    "# plt.figure(figsize=(12,8))\n",
    "plt.title(\"Box plot das atividades por serviços de telecomunicações D696\")\n",
    "sns.boxplot(data=reg_d696_telecom_cfop_merge, y=\"DESCRICAO\", x=\"VL_OPR\")\n",
    "plt.show()"
   ]
  },
  {
   "cell_type": "code",
   "execution_count": null,
   "metadata": {},
   "outputs": [],
   "source": [
    "%%html\n",
    "<h2> Análise da Prestação de Serviços de telecomunicação D500 - saída </h2>"
   ]
  },
  {
   "cell_type": "code",
   "execution_count": null,
   "metadata": {},
   "outputs": [],
   "source": [
    "conn = connection(data_bases[0])"
   ]
  },
  {
   "cell_type": "code",
   "execution_count": null,
   "metadata": {},
   "outputs": [],
   "source": [
    "reg_d510_telecom = pd.read_sql(\"SELECT HASH, COD_ITEM, VL_ITEM, CFOP, ALIQ_ICMS, COD_CTA FROM reg_d510\", con=conn)\n",
    "reg_d510_telecom"
   ]
  },
  {
   "cell_type": "code",
   "execution_count": null,
   "metadata": {},
   "outputs": [],
   "source": [
    "## Soma de todas as Notas Fiscais de saídas do Registro d500:\n",
    "print(f\" Valor total das NFs de saída telecom: R$ {round(reg_d510_telecom.VL_ITEM.sum(),2)}\")\n"
   ]
  },
  {
   "cell_type": "code",
   "execution_count": null,
   "metadata": {},
   "outputs": [],
   "source": [
    "# Soma de valores por código de itens\n",
    "reg_d510_agg_by_cod_item = reg_d510_telecom[[\"COD_ITEM\",\"VL_ITEM\"]].groupby([\"COD_ITEM\"]).agg([\"sum\", \"mean\",\"min\", \"max\"])\n",
    "reg_d510_agg_by_cod_item"
   ]
  },
  {
   "cell_type": "code",
   "execution_count": null,
   "metadata": {},
   "outputs": [],
   "source": [
    "%%html\n",
    "<h2 align=\"center\"> Soma de todos os itens de telecom </h2>"
   ]
  },
  {
   "cell_type": "code",
   "execution_count": null,
   "metadata": {},
   "outputs": [],
   "source": [
    "# soma de todos das receitas de todos os Serviços de telecom:\n",
    "total_d510 = reg_d510_agg_by_cod_item[\"VL_ITEM\"][\"sum\"].sum()\n",
    "print(f\"valor total dos Serviços : R$ {round(total_d510,2)}\")"
   ]
  },
  {
   "cell_type": "code",
   "execution_count": null,
   "metadata": {},
   "outputs": [],
   "source": [
    "%%html\n",
    "<h2 align=\"center\"> Algumas Análises Gráficas </h2>\n"
   ]
  },
  {
   "cell_type": "code",
   "execution_count": null,
   "metadata": {},
   "outputs": [],
   "source": [
    "plt.figure(figsize=(12,8))\n",
    "plt.title(\"Registros d510 - Serviços de telecomunicações por tipo de atividade\")\n",
    "plt.ylabel(\"Classificação das atividades\")\n",
    "plt.xlabel(\"Valores dos itens\")\n",
    "sns.barplot(data=reg_d510_telecom, y=\"COD_ITEM\", x=\"VL_ITEM\", hue=\"COD_CTA\")\n",
    "plt.show()"
   ]
  },
  {
   "cell_type": "code",
   "execution_count": null,
   "metadata": {},
   "outputs": [],
   "source": [
    "plt.figure(figsize=(12,8))\n",
    "plt.title(\"Box plot das atividades por serviços de telecomunicações D500\")\n",
    "sns.boxplot(data=reg_d510_telecom, y=\"COD_ITEM\", x=\"VL_ITEM\", hue=\"COD_CTA\")\n",
    "plt.show()"
   ]
  },
  {
   "cell_type": "code",
   "execution_count": null,
   "metadata": {},
   "outputs": [],
   "source": [
    "conn.close()"
   ]
  },
  {
   "cell_type": "code",
   "execution_count": null,
   "metadata": {},
   "outputs": [],
   "source": [
    "%%html\n",
    "<h3 align=\"center\"> Execute a célula abaixo Se e somente Se desejar gravar as tabelas no formato excell </h3>"
   ]
  },
  {
   "cell_type": "code",
   "execution_count": null,
   "metadata": {},
   "outputs": [],
   "source": [
    "# Importing files to Excell\n",
    "month = input(\"Escreva o nome do mês em minúsculo, sem separações ou símbolos: \")\n",
    "# reg_d510_telecom_merged.to_excel(f\"servicos_telecom_d510_{month}.xlsx\")\n",
    "# reg_d510_agg_by_cod_item.to_excel(f\"soma_agregada_telecom_d510_{month}.xlsx\")\n",
    "reg_c190_cfop_merge.to_excel(f\"saidas_mercadorias_cfop_c190_{month}.xlsx\")\n",
    "reg_c190_group_sum.to_excel(f\"saidas_mercadorias_agg_c190_{month}.xlsx\")\n",
    "reg_c100_all.to_excel(f\"notas_fiscais_c100{month}.xlsx\")\n",
    "reg_d696_agg_by_cod_item.to_excel(f\"reg_telecom_grouped_d696_{month}.xlsx\")\n",
    "reg_d696_telecom_cfop_merge.to_excel(f\"reg_telecom_cfop_d696_{month}.xlsx\")\n"
   ]
  },
  {
   "cell_type": "code",
   "execution_count": null,
   "metadata": {},
   "outputs": [],
   "source": []
  }
 ],
 "metadata": {
  "kernelspec": {
   "display_name": "Python 3",
   "language": "python",
   "name": "python3"
  },
  "language_info": {
   "codemirror_mode": {
    "name": "ipython",
    "version": 3
   },
   "file_extension": ".py",
   "mimetype": "text/x-python",
   "name": "python",
   "nbconvert_exporter": "python",
   "pygments_lexer": "ipython3",
   "version": "3.7.9"
  }
 },
 "nbformat": 4,
 "nbformat_minor": 4
}
