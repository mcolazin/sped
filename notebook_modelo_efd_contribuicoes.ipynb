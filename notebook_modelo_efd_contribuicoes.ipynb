{
 "cells": [
  {
   "cell_type": "code",
   "execution_count": null,
   "metadata": {},
   "outputs": [],
   "source": [
    "from sqlalchemy import create_engine\n",
    "import pymysql\n",
    "import datetime as dt\n",
    "import pandas as pd\n",
    "import numpy as np\n",
    "\n",
    "import seaborn as sns\n",
    "import matplotlib.pyplot as plt\n"
   ]
  },
  {
   "cell_type": "code",
   "execution_count": null,
   "metadata": {},
   "outputs": [],
   "source": [
    "conn = pymysql.connect(host=\"localhost\",\n",
    "                      port=3338,\n",
    "                      user=\"spedfiscal\",\n",
    "                      passwd=\"spedfiscal\",\n",
    "                      database = \"master\",\n",
    "                      charset='utf8')"
   ]
  },
  {
   "cell_type": "code",
   "execution_count": null,
   "metadata": {},
   "outputs": [],
   "source": [
    "# Visualizando os nomes dos Bancos de Dados , entidades e CNPJ\n",
    "pd.read_sql(\"select cnpj, nome_contribuinte, nomeBD, dataInicial FROM escrituracao GROUP BY nome_contribuinte\" , con=conn)"
   ]
  },
  {
   "cell_type": "code",
   "execution_count": null,
   "metadata": {},
   "outputs": [],
   "source": [
    "conn.close()"
   ]
  },
  {
   "cell_type": "code",
   "execution_count": null,
   "metadata": {},
   "outputs": [],
   "source": [
    "# Solicita o nome do banco de dados e instancia conn com o novo DB\n",
    "db_name = input(\"Digite o nome do Banco de Dados: \")\n",
    "conn = pymysql.connect(host=\"localhost\",\n",
    "                      port=3338,\n",
    "                      user=\"spedfiscal\",\n",
    "                      passwd=\"spedfiscal\",\n",
    "                      database = db_name,\n",
    "                      charset='utf8')"
   ]
  },
  {
   "cell_type": "code",
   "execution_count": null,
   "metadata": {},
   "outputs": [],
   "source": [
    "# Carregando arquivos de serviços tabelas a100 e a170\n",
    "reg_a170_servicos = pd.read_sql(\"select HASH, COD_ITEM, DESCR_COMPL, VL_ITEM, NAT_BC_CRED FROM reg_a170 WHERE COD_ITEM != 'CRED'\", con=conn)\n",
    "reg_a170_servicos"
   ]
  },
  {
   "cell_type": "code",
   "execution_count": null,
   "metadata": {},
   "outputs": [],
   "source": [
    "# agrupando dados de soma e média dos valores\n",
    "reg_a170_group_sum = reg_a170_servicos[[\"DESCR_COMPL\",\"VL_ITEM\"]].groupby([\"DESCR_COMPL\"]).agg([\"sum\", \"mean\", \"std\", \"min\", \"max\"])\n",
    "reg_a170_group_sum"
   ]
  },
  {
   "cell_type": "code",
   "execution_count": null,
   "metadata": {},
   "outputs": [],
   "source": [
    "plt.figure(figsize=(10,6))\n",
    "plt.title(\"Registros A100 e A170 - Serviços\")\n",
    "sns.barplot(data=reg_a170_servicos, y=\"DESCR_COMPL\", x=\"VL_ITEM\")\n",
    "plt.show()"
   ]
  },
  {
   "cell_type": "code",
   "execution_count": null,
   "metadata": {},
   "outputs": [],
   "source": [
    "plt.figure(figsize=(10,6))\n",
    "plt.title(\"Registros A100 e A170 - Serviços\")\n",
    "sns.boxplot(data=reg_a170_servicos, x=\"DESCR_COMPL\", y=\"VL_ITEM\")\n",
    "plt.show()"
   ]
  },
  {
   "cell_type": "code",
   "execution_count": null,
   "metadata": {},
   "outputs": [],
   "source": [
    "# Tabela de itens reg_0200\n",
    "pd.read_sql(\"SELECT COD_ITEM, DESCR_ITEM FROM reg_0200\", con=conn)"
   ]
  },
  {
   "cell_type": "code",
   "execution_count": null,
   "metadata": {},
   "outputs": [],
   "source": [
    "# Tabelas de venda de produtos ou saídas de mercadorias\n",
    "reg_c100 = pd.read_sql(\"SELECT * FROM reg_c100\", con=conn)\n",
    "reg_c100"
   ]
  },
  {
   "cell_type": "code",
   "execution_count": null,
   "metadata": {},
   "outputs": [],
   "source": [
    "# Acesso às tabelas D600 - Serviços de Telecomunicações\n",
    "reg_d600 = pd.read_sql(\"SELECT HASH, QTD_CONS, DT_DOC_INI, VL_DOC FROM reg_d600\", con=conn)\n",
    "reg_d600"
   ]
  },
  {
   "cell_type": "code",
   "execution_count": null,
   "metadata": {},
   "outputs": [],
   "source": [
    "# Acesso à tabela outros serviços F100\n",
    "reg_f100 = pd.read_sql(\"SELECT HASH, COD_ITEM, DT_OPER, VL_OPER, DESC_DOC_OPER FROM reg_f100\", con=conn)\n",
    "reg_f100"
   ]
  },
  {
   "cell_type": "code",
   "execution_count": null,
   "metadata": {},
   "outputs": [],
   "source": [
    "plt.figure(figsize=(10,6))\n",
    "plt.title(\"Registros f100 - outras receitas\")\n",
    "sns.barplot(data=reg_f100, x=\"DESC_DOC_OPER\", y=\"VL_OPER\")\n",
    "plt.show()"
   ]
  },
  {
   "cell_type": "code",
   "execution_count": null,
   "metadata": {},
   "outputs": [],
   "source": [
    "conn.close()"
   ]
  },
  {
   "cell_type": "code",
   "execution_count": null,
   "metadata": {},
   "outputs": [],
   "source": [
    "# Importing files to Excell\n",
    "reg_a170_servicos.to_excel(\"servicos_a100.xlsx\")\n",
    "reg_a170_group_sum.to_excel(\"servicos_a100_soma.xlsx\")\n",
    "reg_d600.to_excel(\"servicos_telecom_d600.xlsx\")\n",
    "reg_f100.to_excel(\"outros_servicos_f100.xlsx\")\n",
    "reg_c100.to_excel(\"registros_c100.xlsx\")"
   ]
  }
 ],
 "metadata": {
  "kernelspec": {
   "display_name": "Python 3",
   "language": "python",
   "name": "python3"
  },
  "language_info": {
   "codemirror_mode": {
    "name": "ipython",
    "version": 3
   },
   "file_extension": ".py",
   "mimetype": "text/x-python",
   "name": "python",
   "nbconvert_exporter": "python",
   "pygments_lexer": "ipython3",
   "version": "3.7.9"
  }
 },
 "nbformat": 4,
 "nbformat_minor": 2
}
