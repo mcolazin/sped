{
 "cells": [
  {
   "cell_type": "code",
   "execution_count": null,
   "metadata": {},
   "outputs": [],
   "source": [
    "%%html\n",
    "<h1 align=center>Caderno de Análise dos Dados do SPED - EFD Contribuições </h1>"
   ]
  },
  {
   "cell_type": "code",
   "execution_count": null,
   "metadata": {},
   "outputs": [],
   "source": [
    "# Importar as bibliotecas para a realização da Análise ((não alterar o código))\n",
    "\n",
    "from sqlalchemy import create_engine\n",
    "import pymysql\n",
    "import datetime as dt\n",
    "import pandas as pd\n",
    "import numpy as np\n",
    "\n",
    "import seaborn as sns\n",
    "import matplotlib.pyplot as plt\n"
   ]
  },
  {
   "cell_type": "code",
   "execution_count": null,
   "metadata": {},
   "outputs": [],
   "source": [
    "# Conexão ao banco de dados do EFD-Cotribuições (não alterar o código)\n",
    "conn = pymysql.connect(host=\"localhost\",\n",
    "                      port=3338,\n",
    "                      user=\"spedfiscal\",\n",
    "                      passwd=\"spedfiscal\",\n",
    "                      database = \"master\",\n",
    "                      charset='utf8')"
   ]
  },
  {
   "cell_type": "code",
   "execution_count": null,
   "metadata": {},
   "outputs": [],
   "source": [
    "%%html\n",
    "<h2 align=\"center\"> Insira o CNPJ da entidade sem espaços, simbolos ou letras </h2>"
   ]
  },
  {
   "cell_type": "code",
   "execution_count": null,
   "metadata": {},
   "outputs": [],
   "source": [
    "cnpj = int(input(\"Digite o número do CNPJ da entidade: \"))"
   ]
  },
  {
   "cell_type": "code",
   "execution_count": null,
   "metadata": {},
   "outputs": [],
   "source": [
    "%%html\n",
    "<h4 align=\"center\"> Copie na opção abaixo o nome do db para análise </h4>"
   ]
  },
  {
   "cell_type": "code",
   "execution_count": null,
   "metadata": {},
   "outputs": [],
   "source": [
    "# Visualizando os nomes dos Bancos de Dados , entidades e CNPJ\n",
    "pd.read_sql(f\"select cnpj, nome_contribuinte, nomeBD, dataInicial FROM escrituracao WHERE cnpj = {cnpj} \" , con=conn)"
   ]
  },
  {
   "cell_type": "code",
   "execution_count": null,
   "metadata": {},
   "outputs": [],
   "source": [
    "conn.close()"
   ]
  },
  {
   "cell_type": "code",
   "execution_count": null,
   "metadata": {},
   "outputs": [],
   "source": [
    "# Solicita o nome do banco de dados e instancia conn com o novo DB\n",
    "db_name = input(\"Digite o nome do Banco de Dados: \")\n",
    "conn = pymysql.connect(host=\"localhost\",\n",
    "                      port=3338,\n",
    "                      user=\"spedfiscal\",\n",
    "                      passwd=\"spedfiscal\",\n",
    "                      database = db_name,\n",
    "                      charset='utf8')"
   ]
  },
  {
   "cell_type": "code",
   "execution_count": null,
   "metadata": {},
   "outputs": [],
   "source": [
    "%%html\n",
    "<h2> Análise da Prestação de Serviços A100 e A170 </h2>"
   ]
  },
  {
   "cell_type": "code",
   "execution_count": null,
   "metadata": {},
   "outputs": [],
   "source": [
    "# Carregando arquivos de serviços tabelas a100 e a170\n",
    "reg_a170_servicos = pd.read_sql(\"select HASH, COD_ITEM, DESCR_COMPL, VL_ITEM, NAT_BC_CRED,COD_CTA FROM reg_a170 WHERE COD_ITEM != 'CRED'\", con=conn)\n",
    "reg_a170_servicos"
   ]
  },
  {
   "cell_type": "code",
   "execution_count": null,
   "metadata": {},
   "outputs": [],
   "source": [
    "# merge entre as tabelas reg_a170 e a de contas contábeis reg_0500\n",
    "reg_0500 = pd.read_sql(\"SELECT COD_CTA, NOME_CTA FROM reg_0500\", con=conn)\n",
    "reg_a170_servicos = pd.merge(reg_a170_servicos, reg_0500, on=\"COD_CTA\")"
   ]
  },
  {
   "cell_type": "code",
   "execution_count": null,
   "metadata": {},
   "outputs": [],
   "source": [
    "reg_a170_servicos"
   ]
  },
  {
   "cell_type": "code",
   "execution_count": null,
   "metadata": {},
   "outputs": [],
   "source": [
    "# agrupando dados de soma e média dos valores\n",
    "reg_a170_group_sum = reg_a170_servicos[[\"DESCR_COMPL\",\"NOME_CTA\",\"VL_ITEM\"]].groupby([\"DESCR_COMPL\", \"NOME_CTA\"]).agg([\"sum\", \"mean\", \"std\", \"min\", \"max\"])\n",
    "reg_a170_group_sum"
   ]
  },
  {
   "cell_type": "code",
   "execution_count": null,
   "metadata": {},
   "outputs": [],
   "source": [
    "# Plotando os lançamentos dos registros A170 para cada descrição de atividade\n",
    "\n",
    "plt.figure(figsize=(10,6))\n",
    "plt.title(\"Registros A100 e A170 - Serviços\")\n",
    "sns.barplot(data=reg_a170_servicos, y=\"DESCR_COMPL\", x=\"VL_ITEM\", hue=\"NOME_CTA\")\n",
    "plt.show()"
   ]
  },
  {
   "cell_type": "code",
   "execution_count": null,
   "metadata": {},
   "outputs": [],
   "source": [
    "# Box Plot das Receitas classificadas por tipo de atividade\n",
    "\n",
    "plt.figure(figsize=(10,6))\n",
    "plt.title(\"Registros A100 e A170 - Serviços\")\n",
    "sns.boxplot(data=reg_a170_servicos, x=\"DESCR_COMPL\", y=\"VL_ITEM\", hue=\"NOME_CTA\")\n",
    "plt.show()"
   ]
  },
  {
   "cell_type": "code",
   "execution_count": null,
   "metadata": {},
   "outputs": [],
   "source": [
    "# Tabela de itens reg_0200\n",
    "reg_0200 = pd.read_sql(\"SELECT COD_ITEM, DESCR_ITEM FROM reg_0200\", con=conn)\n",
    "reg_0200"
   ]
  },
  {
   "cell_type": "code",
   "execution_count": null,
   "metadata": {},
   "outputs": [],
   "source": [
    "# Merge entre os dataframes reg_a170 e reg_0200 (registros de itens)\n",
    "reg_a170_merge_cod_item = pd.merge(reg_a170_servicos, reg_0200, on=\"COD_ITEM\")\n",
    "reg_a170_merge_cod_item"
   ]
  },
  {
   "cell_type": "code",
   "execution_count": null,
   "metadata": {},
   "outputs": [],
   "source": [
    "# Estatistica Descritiva A100 ou A170 por Descrição de itens\n",
    "reg_a170_merge_cod_item_group_sum = reg_a170_merge_cod_item[[\"DESCR_ITEM\",\"NOME_CTA\",\"VL_ITEM\"]].groupby([\"DESCR_ITEM\", \"NOME_CTA\"]).agg([\"sum\", \"mean\", \"std\", \"min\", \"max\"])\n",
    "reg_a170_merge_cod_item_group_sum"
   ]
  },
  {
   "cell_type": "code",
   "execution_count": null,
   "metadata": {},
   "outputs": [],
   "source": [
    "plt.figure(figsize=(10,6))\n",
    "plt.title(\"Registros A100 e A170 - Serviços\")\n",
    "sns.barplot(data=reg_a170_merge_cod_item, y=\"DESCR_ITEM\", x=\"VL_ITEM\", hue=\"NOME_CTA\")\n",
    "plt.show()"
   ]
  },
  {
   "cell_type": "code",
   "execution_count": null,
   "metadata": {},
   "outputs": [],
   "source": [
    "%%html\n",
    "<br><br><Br>\n",
    "<h2> Registros de saida e venda de mercadorias C100 </h2>"
   ]
  },
  {
   "cell_type": "code",
   "execution_count": null,
   "metadata": {},
   "outputs": [],
   "source": [
    "# Tabelas de venda de produtos ou saídas de mercadorias\n",
    "reg_c100 = pd.read_sql(\"SELECT * FROM reg_c100 WHERE IND_OPER=1\", con=conn)\n",
    "reg_c100"
   ]
  },
  {
   "cell_type": "code",
   "execution_count": null,
   "metadata": {},
   "outputs": [],
   "source": [
    "%%html\n",
    "<br><br><Br>\n",
    "<h2> Notas Fiscais consolidadas de Serviços de Telecomunicações D600 </h2>"
   ]
  },
  {
   "cell_type": "code",
   "execution_count": null,
   "metadata": {},
   "outputs": [],
   "source": [
    "# Acesso às tabelas D600 - Serviços de Telecomunicações\n",
    "reg_d600 = pd.read_sql(\"SELECT HASH, QTD_CONS, DT_DOC_INI, VL_DOC FROM reg_d600\", con=conn)\n",
    "reg_d600"
   ]
  },
  {
   "cell_type": "code",
   "execution_count": null,
   "metadata": {},
   "outputs": [],
   "source": [
    "plt.figure(figsize=(10,6))\n",
    "plt.title(\"Distribuição das receitas de telecomunicações D600\")\n",
    "plt.xlabel(\"Lançamentos em index\")\n",
    "plt.ylabel(\"Valores em R$\")\n",
    "sns.scatterplot(data=reg_d600, x=reg_d600.index, y=\"VL_DOC\")\n",
    "plt.show()"
   ]
  },
  {
   "cell_type": "code",
   "execution_count": null,
   "metadata": {},
   "outputs": [],
   "source": [
    "# Boxplot da distribuição de Serviços de Telecomunicações\n",
    "plt.figure(figsize=(10,6))\n",
    "plt.title(\"Registros D600 - Telecomunicações\")\n",
    "plt.ylabel(\"Valores em R$\")\n",
    "sns.boxplot(data=reg_d600, y=\"VL_DOC\")\n",
    "plt.show()"
   ]
  },
  {
   "cell_type": "code",
   "execution_count": null,
   "metadata": {},
   "outputs": [],
   "source": [
    "# Histograma de distribuição das receitas de telecomunicações no mês:\n",
    "plt.figure(figsize=(10,6))\n",
    "plt.title(\"Registros D600 - Telecomunicações\")\n",
    "plt.xlabel(\"Valores Consolidados em R$\")\n",
    "plt.ylabel(\"Ocorrências\")\n",
    "sns.histplot(data=reg_d600, x=\"VL_DOC\", hue=\"QTD_CONS\")\n",
    "plt.show()"
   ]
  },
  {
   "cell_type": "code",
   "execution_count": null,
   "metadata": {},
   "outputs": [],
   "source": [
    "# Estatística descritiva das Receitas D600 de Telecomunicações\n",
    "reg_d600_group_sum = round(reg_d600[[\"VL_DOC\"]].agg([\"sum\", \"mean\", \"std\", \"min\", \"max\"]),2)\n",
    "reg_d600_group_sum"
   ]
  },
  {
   "cell_type": "code",
   "execution_count": null,
   "metadata": {},
   "outputs": [],
   "source": [
    "%%html\n",
    "<h2> Registros de saída de outras atividades econômicas F100 </h2>"
   ]
  },
  {
   "cell_type": "code",
   "execution_count": null,
   "metadata": {},
   "outputs": [],
   "source": [
    "# Acesso à tabela outros serviços F100 e merge com a tabela reg_0500\n",
    "reg_f100 = pd.read_sql(\"SELECT HASH, COD_ITEM, DT_OPER, VL_OPER, DESC_DOC_OPER, COD_CTA FROM reg_f100\", con=conn)\n",
    "reg_f100 = pd.merge(reg_f100, reg_0500, on=\"COD_CTA\")"
   ]
  },
  {
   "cell_type": "code",
   "execution_count": null,
   "metadata": {},
   "outputs": [],
   "source": [
    "reg_f100"
   ]
  },
  {
   "cell_type": "code",
   "execution_count": null,
   "metadata": {},
   "outputs": [],
   "source": [
    "# Operações ou lançamentos por descrição das operações\n",
    "\n",
    "plt.figure(figsize=(10,6))\n",
    "plt.title(\"Registros f100 - outras receitas\")\n",
    "plt.xlabel(\"Descrição da Atividade\")\n",
    "plt.ylabel(\"Valores de Receitas em R$\")\n",
    "sns.barplot(data=reg_f100, x=\"DESC_DOC_OPER\", y=\"VL_OPER\", hue=\"NOME_CTA\")\n",
    "plt.show()"
   ]
  },
  {
   "cell_type": "code",
   "execution_count": null,
   "metadata": {},
   "outputs": [],
   "source": [
    "# Estatística descritiva\n",
    "reg_f100_group_sum = round(reg_f100[[\"DESC_DOC_OPER\", \"NOME_CTA\" ,\"VL_OPER\"]].groupby([\"DESC_DOC_OPER\", \"NOME_CTA\"]).agg([\"sum\", \"mean\", \"std\", \"min\", \"max\"]),2)\n",
    "reg_f100_group_sum"
   ]
  },
  {
   "cell_type": "code",
   "execution_count": null,
   "metadata": {},
   "outputs": [],
   "source": [
    "conn.close()"
   ]
  },
  {
   "cell_type": "code",
   "execution_count": null,
   "metadata": {},
   "outputs": [],
   "source": [
    "%%html\n",
    "<h3 align=\"center\"> Execute a célula abaixo Se e somente Se desejar gravar as tabelas no formato excell </h3>"
   ]
  },
  {
   "cell_type": "code",
   "execution_count": null,
   "metadata": {},
   "outputs": [],
   "source": [
    "# Importing files to Excell\n",
    "month = input(\"Escreva o nome do mês em minúsculo, sem separações ou símbolos: \")\n",
    "reg_a170_servicos.to_excel(f\"servicos_a100_{month}.xlsx\")\n",
    "reg_a170_group_sum.to_excel(f\"servicos_a100_soma_{month}.xlsx\")\n",
    "reg_d600.to_excel(f\"servicos_telecom_d600_{month}.xlsx\")\n",
    "reg_f100.to_excel(f\"outros_servicos_f100_{month}.xlsx\")\n",
    "reg_c100.to_excel(f\"registros_c100_{month}.xlsx\")"
   ]
  },
  {
   "cell_type": "code",
   "execution_count": null,
   "metadata": {},
   "outputs": [],
   "source": []
  }
 ],
 "metadata": {
  "kernelspec": {
   "display_name": "Python 3",
   "language": "python",
   "name": "python3"
  },
  "language_info": {
   "codemirror_mode": {
    "name": "ipython",
    "version": 3
   },
   "file_extension": ".py",
   "mimetype": "text/x-python",
   "name": "python",
   "nbconvert_exporter": "python",
   "pygments_lexer": "ipython3",
   "version": "3.7.9"
  }
 },
 "nbformat": 4,
 "nbformat_minor": 2
}
